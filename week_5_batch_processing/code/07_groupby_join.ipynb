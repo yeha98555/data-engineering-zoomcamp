{
 "cells": [
  {
   "cell_type": "code",
   "execution_count": 1,
   "id": "59ac6d64",
   "metadata": {},
   "outputs": [
    {
     "name": "stderr",
     "output_type": "stream",
     "text": [
      "Setting default log level to \"WARN\".\n",
      "To adjust logging level use sc.setLogLevel(newLevel). For SparkR, use setLogLevel(newLevel).\n"
     ]
    },
    {
     "name": "stdout",
     "output_type": "stream",
     "text": [
      "23/03/20 00:02:46 WARN NativeCodeLoader: Unable to load native-hadoop library for your platform... using builtin-java classes where applicable\n"
     ]
    }
   ],
   "source": [
    "import pyspark\n",
    "from pyspark.sql import SparkSession\n",
    "\n",
    "spark = SparkSession.builder \\\n",
    "    .master('local[*]') \\\n",
    "    .appName('test') \\\n",
    "    .getOrCreate()"
   ]
  },
  {
   "cell_type": "code",
   "execution_count": 2,
   "id": "45e1e94a",
   "metadata": {},
   "outputs": [],
   "source": [
    "df_green = spark.read.parquet('data/pq/green/*/*')"
   ]
  },
  {
   "cell_type": "code",
   "execution_count": 3,
   "id": "27d442a7",
   "metadata": {},
   "outputs": [
    {
     "name": "stderr",
     "output_type": "stream",
     "text": [
      "/home/yic/Documents/Library/spark-3.3.1-bin-hadoop3/python/lib/pyspark.zip/pyspark/sql/dataframe.py:229: FutureWarning: Deprecated in 2.0, use createOrReplaceTempView instead.\n"
     ]
    }
   ],
   "source": [
    "df_green.registerTempTable('green')"
   ]
  },
  {
   "cell_type": "code",
   "execution_count": 4,
   "id": "8e52b54c",
   "metadata": {},
   "outputs": [
    {
     "data": {
      "text/plain": [
       "['VendorID',\n",
       " 'lpep_pickup_datetime',\n",
       " 'lpep_dropoff_datetime',\n",
       " 'store_and_fwd_flag',\n",
       " 'RatecodeID',\n",
       " 'PULocationID',\n",
       " 'DOLocationID',\n",
       " 'passenger_count',\n",
       " 'trip_distance',\n",
       " 'fare_amount',\n",
       " 'extra',\n",
       " 'mta_tax',\n",
       " 'tip_amount',\n",
       " 'tolls_amount',\n",
       " 'ehail_fee',\n",
       " 'improvement_surcharge',\n",
       " 'total_amount',\n",
       " 'payment_type',\n",
       " 'trip_type',\n",
       " 'congestion_surcharge']"
      ]
     },
     "execution_count": 4,
     "metadata": {},
     "output_type": "execute_result"
    }
   ],
   "source": [
    "df_green.columns"
   ]
  },
  {
   "cell_type": "code",
   "execution_count": 5,
   "id": "9b5d2a13",
   "metadata": {},
   "outputs": [],
   "source": [
    "df_green_revenue = spark.sql(\"\"\"\n",
    "SELECT \n",
    "    date_trunc('hour', lpep_pickup_datetime) AS hour, \n",
    "    PULocationID AS zone,\n",
    "    \n",
    "    SUM(tolls_amount) AS amount,\n",
    "    COUNT(1) AS number_records\n",
    "FROM\n",
    "    green\n",
    "WHERE\n",
    "    lpep_pickup_datetime >= '2020-01-01 00:00:00'\n",
    "GROUP BY\n",
    "    1, 2\n",
    "\"\"\")"
   ]
  },
  {
   "cell_type": "code",
   "execution_count": 6,
   "id": "92e26e32",
   "metadata": {},
   "outputs": [
    {
     "name": "stderr",
     "output_type": "stream",
     "text": [
      "\r",
      "[Stage 1:>                                                          (0 + 7) / 7]\r"
     ]
    },
    {
     "name": "stdout",
     "output_type": "stream",
     "text": [
      "+-------------------+----+------+--------------+\n",
      "|               hour|zone|amount|number_records|\n",
      "+-------------------+----+------+--------------+\n",
      "|2021-06-21 10:00:00|  55|  6.55|             3|\n",
      "|2021-06-22 17:00:00| 166|   0.0|            13|\n",
      "|2021-06-17 11:00:00| 244|   3.0|             4|\n",
      "|2021-06-15 11:00:00|  51| 12.55|             3|\n",
      "|2021-06-19 04:00:00| 250|   0.0|             1|\n",
      "|2021-06-05 11:00:00| 166|   0.0|             4|\n",
      "|2021-06-02 21:00:00|  35|   0.0|             2|\n",
      "|2021-06-22 17:00:00|  95|   0.0|             8|\n",
      "|2021-06-27 21:00:00|  74|   0.0|            12|\n",
      "|2021-06-15 16:00:00| 197|  39.3|            16|\n",
      "|2021-06-04 13:00:00| 181|   0.0|             3|\n",
      "|2021-06-01 08:00:00| 183|   0.0|             1|\n",
      "|2021-06-06 19:00:00| 226|   0.0|             1|\n",
      "|2021-06-27 20:00:00| 256|  6.55|             1|\n",
      "|2021-06-11 18:00:00|  75|   0.0|            29|\n",
      "|2021-06-29 13:00:00|  42|  6.55|            10|\n",
      "|2021-06-14 11:00:00| 166|   0.0|             3|\n",
      "|2021-06-22 17:00:00|  65|   0.0|             3|\n",
      "|2021-06-05 19:00:00|  97|   0.0|             3|\n",
      "|2021-06-30 06:00:00|  49|   0.0|             5|\n",
      "+-------------------+----+------+--------------+\n",
      "only showing top 20 rows\n",
      "\n"
     ]
    },
    {
     "name": "stderr",
     "output_type": "stream",
     "text": [
      "\r",
      "                                                                                \r"
     ]
    }
   ],
   "source": [
    "df_green_revenue.show()"
   ]
  },
  {
   "cell_type": "code",
   "execution_count": 7,
   "id": "21e353d5",
   "metadata": {},
   "outputs": [
    {
     "name": "stderr",
     "output_type": "stream",
     "text": [
      "                                                                                \r"
     ]
    }
   ],
   "source": [
    "df_green_revenue.write.parquet('data/report/revenue/green', mode='overwrite')"
   ]
  },
  {
   "cell_type": "code",
   "execution_count": 8,
   "id": "50e1d5f5",
   "metadata": {},
   "outputs": [],
   "source": [
    "df_yellow = spark.read.parquet('data/pq/yellow/*/*')\n",
    "df_yellow.registerTempTable('yellow')"
   ]
  },
  {
   "cell_type": "code",
   "execution_count": 9,
   "id": "b93d12f3",
   "metadata": {},
   "outputs": [],
   "source": [
    "df_yellow_revenue = spark.sql(\"\"\"\n",
    "SELECT \n",
    "    date_trunc('hour', tpep_pickup_datetime) AS hour, \n",
    "    PULocationID AS zone,\n",
    "    SUM(tolls_amount) AS amount,\n",
    "    COUNT(1) AS number_records\n",
    "FROM\n",
    "    yellow\n",
    "WHERE\n",
    "    tpep_pickup_datetime >= '2020-01-01 00:00:00'\n",
    "GROUP BY\n",
    "    1, 2\n",
    "\"\"\")"
   ]
  },
  {
   "cell_type": "code",
   "execution_count": 10,
   "id": "f8045d87",
   "metadata": {},
   "outputs": [
    {
     "name": "stderr",
     "output_type": "stream",
     "text": [
      "[Stage 8:====================================================>     (9 + 1) / 10]\r"
     ]
    },
    {
     "name": "stdout",
     "output_type": "stream",
     "text": [
      "23/03/20 00:03:00 WARN MemoryManager: Total allocation exceeds 95.00% (1,020,054,720 bytes) of heap memory\n",
      "Scaling row group sizes to 95.00% for 8 writers\n"
     ]
    },
    {
     "name": "stderr",
     "output_type": "stream",
     "text": [
      "                                                                                \r"
     ]
    }
   ],
   "source": [
    "df_yellow_revenue.write.parquet('data/report/revenue/yellow', mode='overwrite')"
   ]
  },
  {
   "cell_type": "markdown",
   "id": "70bdbdfd",
   "metadata": {},
   "source": [
    "---"
   ]
  },
  {
   "cell_type": "markdown",
   "id": "4fba1748",
   "metadata": {},
   "source": [
    "read green/yellow files"
   ]
  },
  {
   "cell_type": "code",
   "execution_count": 21,
   "id": "1bf8db0b",
   "metadata": {},
   "outputs": [],
   "source": [
    "df_green_revenue = spark.read.parquet('data/report/revenue/green')"
   ]
  },
  {
   "cell_type": "code",
   "execution_count": 22,
   "id": "dda039c7",
   "metadata": {},
   "outputs": [],
   "source": [
    "df_yellow_revenue = spark.read.parquet('data/report/revenue/yellow')"
   ]
  },
  {
   "cell_type": "markdown",
   "id": "f580014c",
   "metadata": {},
   "source": [
    "rename the columns to distinguish green/yellow"
   ]
  },
  {
   "cell_type": "code",
   "execution_count": 23,
   "id": "e854d439",
   "metadata": {},
   "outputs": [],
   "source": [
    "df_green_revenue_tmp = df_green_revenue \\\n",
    "    .withColumnRenamed('amount', 'green_amount') \\\n",
    "    .withColumnRenamed('number_records', 'green_number_records')"
   ]
  },
  {
   "cell_type": "code",
   "execution_count": 24,
   "id": "c8828713",
   "metadata": {},
   "outputs": [],
   "source": [
    "df_yellow_revenue_tmp = df_yellow_revenue \\\n",
    "    .withColumnRenamed('amount', 'yellow_amount') \\\n",
    "    .withColumnRenamed('number_records', 'yellow_number_records')"
   ]
  },
  {
   "cell_type": "code",
   "execution_count": 25,
   "id": "e10b80f3",
   "metadata": {},
   "outputs": [],
   "source": [
    "df_join = df_green_revenue_tmp.join(df_yellow_revenue_tmp, on=['hour', 'zone'], how='outer')"
   ]
  },
  {
   "cell_type": "code",
   "execution_count": 26,
   "id": "52f94c7a",
   "metadata": {
    "scrolled": true
   },
   "outputs": [
    {
     "name": "stdout",
     "output_type": "stream",
     "text": [
      "23/03/20 00:25:14 WARN MemoryManager: Total allocation exceeds 95.00% (1,020,054,720 bytes) of heap memory\n",
      "Scaling row group sizes to 95.00% for 8 writers\n"
     ]
    },
    {
     "name": "stderr",
     "output_type": "stream",
     "text": [
      "                                                                                \r"
     ]
    }
   ],
   "source": [
    "df_join.write.parquet('data/report/revenue/total', mode='overwrite')"
   ]
  },
  {
   "cell_type": "markdown",
   "id": "da206f00",
   "metadata": {},
   "source": [
    "---"
   ]
  },
  {
   "cell_type": "markdown",
   "id": "dffd71ae",
   "metadata": {},
   "source": [
    "read green/yellow join file"
   ]
  },
  {
   "cell_type": "code",
   "execution_count": 27,
   "id": "89296d85",
   "metadata": {},
   "outputs": [],
   "source": [
    "df_join = spark.read.parquet('data/report/revenue/total')"
   ]
  },
  {
   "cell_type": "markdown",
   "id": "87f595ca",
   "metadata": {},
   "source": [
    "join with zones"
   ]
  },
  {
   "cell_type": "code",
   "execution_count": 29,
   "id": "37695302",
   "metadata": {},
   "outputs": [],
   "source": [
    "df_zones = spark.read.parquet('zones')"
   ]
  },
  {
   "cell_type": "code",
   "execution_count": 30,
   "id": "e3a1787a",
   "metadata": {},
   "outputs": [],
   "source": [
    "df_result = df_join.join(df_zones, df_join.zone == df_zones.LocationID)"
   ]
  },
  {
   "cell_type": "code",
   "execution_count": 33,
   "id": "517b060c",
   "metadata": {},
   "outputs": [
    {
     "name": "stdout",
     "output_type": "stream",
     "text": [
      "23/03/20 00:37:27 WARN MemoryManager: Total allocation exceeds 95.00% (1,020,054,720 bytes) of heap memory\n",
      "Scaling row group sizes to 95.00% for 8 writers\n"
     ]
    },
    {
     "name": "stderr",
     "output_type": "stream",
     "text": [
      "                                                                                \r"
     ]
    }
   ],
   "source": [
    "df_result.drop('LocationID', 'zone').write.parquet('tmp/revenue-zones')"
   ]
  },
  {
   "cell_type": "code",
   "execution_count": 31,
   "id": "f38f375f",
   "metadata": {},
   "outputs": [
    {
     "name": "stdout",
     "output_type": "stream",
     "text": [
      "+-------------------+----+------------+--------------------+-------------+---------------------+----------+---------+--------------------+------------+\n",
      "|               hour|zone|green_amount|green_number_records|yellow_amount|yellow_number_records|LocationID|  Borough|                Zone|service_zone|\n",
      "+-------------------+----+------------+--------------------+-------------+---------------------+----------+---------+--------------------+------------+\n",
      "|2020-12-31 18:00:00| 142|        null|                null|          0.0|                    2|       142|Manhattan| Lincoln Square East| Yellow Zone|\n",
      "|2020-12-31 23:00:00|  43|        null|                null|          2.8|                    1|        43|Manhattan|        Central Park| Yellow Zone|\n",
      "|2020-12-31 23:00:00| 137|        null|                null|          0.0|                    1|       137|Manhattan|            Kips Bay| Yellow Zone|\n",
      "|2021-01-01 00:00:00|  13|        null|                null|          0.0|                    3|        13|Manhattan|   Battery Park City| Yellow Zone|\n",
      "|2021-01-01 00:00:00|  51|        null|                null|          0.0|                    1|        51|    Bronx|          Co-Op City|   Boro Zone|\n",
      "|2021-01-01 00:00:00|  55|         0.0|                   1|         null|                 null|        55| Brooklyn|        Coney Island|   Boro Zone|\n",
      "|2021-01-01 00:00:00|  70|        null|                null|        12.24|                    3|        70|   Queens|       East Elmhurst|   Boro Zone|\n",
      "|2021-01-01 00:00:00|  72|        null|                null|          0.0|                    1|        72| Brooklyn|East Flatbush/Rem...|   Boro Zone|\n",
      "|2021-01-01 00:00:00| 158|        null|                null|          0.0|                    5|       158|Manhattan|Meatpacking/West ...| Yellow Zone|\n",
      "|2021-01-01 00:00:00| 163|        null|                null|          0.0|                   16|       163|Manhattan|       Midtown North| Yellow Zone|\n",
      "|2021-01-01 00:00:00| 165|         0.0|                   1|         null|                 null|       165| Brooklyn|             Midwood|   Boro Zone|\n",
      "|2021-01-01 00:00:00| 177|        null|                null|          0.0|                    1|       177| Brooklyn|          Ocean Hill|   Boro Zone|\n",
      "|2021-01-01 00:00:00| 193|         0.0|                   1|         null|                 null|       193|   Queens|Queensbridge/Rave...|   Boro Zone|\n",
      "|2021-01-01 00:00:00| 212|        null|                null|          0.0|                    1|       212|    Bronx|  Soundview/Bruckner|   Boro Zone|\n",
      "|2021-01-01 00:00:00| 217|        null|                null|          0.0|                    1|       217| Brooklyn|  South Williamsburg|   Boro Zone|\n",
      "|2021-01-01 00:00:00| 229|        null|                null|          0.0|                   17|       229|Manhattan|Sutton Place/Turt...| Yellow Zone|\n",
      "|2021-01-01 00:00:00| 244|         0.0|                   1|          0.0|                    2|       244|Manhattan|Washington Height...|   Boro Zone|\n",
      "|2021-01-01 00:00:00| 249|        null|                null|          0.0|                   20|       249|Manhattan|        West Village| Yellow Zone|\n",
      "|2021-01-01 01:00:00|  25|        null|                null|          0.0|                    2|        25| Brooklyn|         Boerum Hill|   Boro Zone|\n",
      "|2021-01-01 01:00:00|  37|        null|                null|          0.0|                    1|        37| Brooklyn|      Bushwick South|   Boro Zone|\n",
      "+-------------------+----+------------+--------------------+-------------+---------------------+----------+---------+--------------------+------------+\n",
      "only showing top 20 rows\n",
      "\n"
     ]
    }
   ],
   "source": [
    "df_result.show()"
   ]
  }
 ],
 "metadata": {
  "kernelspec": {
   "display_name": "Python 3 (ipykernel)",
   "language": "python",
   "name": "python3"
  },
  "language_info": {
   "codemirror_mode": {
    "name": "ipython",
    "version": 3
   },
   "file_extension": ".py",
   "mimetype": "text/x-python",
   "name": "python",
   "nbconvert_exporter": "python",
   "pygments_lexer": "ipython3",
   "version": "3.9.15"
  }
 },
 "nbformat": 4,
 "nbformat_minor": 5
}
