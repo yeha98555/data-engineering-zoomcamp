{
 "cells": [
  {
   "cell_type": "markdown",
   "id": "bf3edef2",
   "metadata": {},
   "source": [
    "Target: implement below SQL code by RDDs\n",
    "```\n",
    "SELECT \n",
    "    date_trunc('hour', lpep_pickup_datetime) AS hour, \n",
    "    PULocationID AS zone,\n",
    "    \n",
    "    SUM(tolls_amount) AS amount,\n",
    "    COUNT(1) AS number_records\n",
    "FROM\n",
    "    green\n",
    "WHERE\n",
    "    lpep_pickup_datetime >= '2020-01-01 00:00:00'\n",
    "GROUP BY\n",
    "    1, 2\n",
    "```"
   ]
  },
  {
   "cell_type": "markdown",
   "id": "c6be0707",
   "metadata": {},
   "source": [
    "---"
   ]
  },
  {
   "cell_type": "code",
   "execution_count": 2,
   "id": "b620efcb",
   "metadata": {},
   "outputs": [
    {
     "name": "stderr",
     "output_type": "stream",
     "text": [
      "Setting default log level to \"WARN\".\n",
      "To adjust logging level use sc.setLogLevel(newLevel). For SparkR, use setLogLevel(newLevel).\n"
     ]
    },
    {
     "name": "stdout",
     "output_type": "stream",
     "text": [
      "23/03/20 01:12:30 WARN NativeCodeLoader: Unable to load native-hadoop library for your platform... using builtin-java classes where applicable\n"
     ]
    }
   ],
   "source": [
    "import pyspark\n",
    "from pyspark.sql import SparkSession\n",
    "\n",
    "spark = SparkSession.builder \\\n",
    "    .master(\"local[*]\") \\\n",
    "    .appName('test') \\\n",
    "    .getOrCreate()"
   ]
  },
  {
   "cell_type": "code",
   "execution_count": 3,
   "id": "bffd3192",
   "metadata": {},
   "outputs": [],
   "source": [
    "df_green = spark.read.parquet('data/pq/green/*/*')"
   ]
  },
  {
   "cell_type": "code",
   "execution_count": 5,
   "id": "bba951e9",
   "metadata": {},
   "outputs": [
    {
     "data": {
      "text/plain": [
       "[Row(VendorID=None, lpep_pickup_datetime=datetime.datetime(2021, 6, 18, 11, 31), lpep_dropoff_datetime=datetime.datetime(2021, 6, 18, 11, 37), store_and_fwd_flag=None, RatecodeID=None, PULocationID=210, DOLocationID=155, passenger_count=None, trip_distance=1.06, fare_amount=16.3, extra=2.75, mta_tax=0.0, tip_amount=0.0, tolls_amount=0.0, ehail_fee=None, improvement_surcharge=0.3, total_amount=19.35, payment_type=None, trip_type=None, congestion_surcharge=None),\n",
       " Row(VendorID=1, lpep_pickup_datetime=datetime.datetime(2021, 6, 14, 15, 54, 46), lpep_dropoff_datetime=datetime.datetime(2021, 6, 14, 16, 5, 31), store_and_fwd_flag='N', RatecodeID=1, PULocationID=65, DOLocationID=189, passenger_count=1, trip_distance=1.3, fare_amount=8.5, extra=1.0, mta_tax=0.5, tip_amount=2.55, tolls_amount=0.0, ehail_fee=None, improvement_surcharge=0.3, total_amount=12.85, payment_type=1, trip_type=1, congestion_surcharge=0.0),\n",
       " Row(VendorID=None, lpep_pickup_datetime=datetime.datetime(2021, 6, 11, 16, 28), lpep_dropoff_datetime=datetime.datetime(2021, 6, 11, 17, 20), store_and_fwd_flag=None, RatecodeID=None, PULocationID=75, DOLocationID=167, passenger_count=None, trip_distance=3.67, fare_amount=27.06, extra=0.0, mta_tax=0.0, tip_amount=0.0, tolls_amount=0.0, ehail_fee=None, improvement_surcharge=0.3, total_amount=27.36, payment_type=None, trip_type=None, congestion_surcharge=None),\n",
       " Row(VendorID=2, lpep_pickup_datetime=datetime.datetime(2021, 6, 12, 9, 29, 47), lpep_dropoff_datetime=datetime.datetime(2021, 6, 12, 10, 9, 44), store_and_fwd_flag='N', RatecodeID=1, PULocationID=95, DOLocationID=249, passenger_count=1, trip_distance=12.47, fare_amount=39.5, extra=0.0, mta_tax=0.5, tip_amount=0.0, tolls_amount=6.55, ehail_fee=None, improvement_surcharge=0.3, total_amount=49.6, payment_type=2, trip_type=1, congestion_surcharge=2.75),\n",
       " Row(VendorID=2, lpep_pickup_datetime=datetime.datetime(2021, 6, 1, 14, 32, 17), lpep_dropoff_datetime=datetime.datetime(2021, 6, 1, 15, 0, 26), store_and_fwd_flag='N', RatecodeID=1, PULocationID=74, DOLocationID=75, passenger_count=1, trip_distance=3.0, fare_amount=18.0, extra=0.0, mta_tax=0.5, tip_amount=3.76, tolls_amount=0.0, ehail_fee=None, improvement_surcharge=0.3, total_amount=22.56, payment_type=1, trip_type=1, congestion_surcharge=0.0)]"
      ]
     },
     "execution_count": 5,
     "metadata": {},
     "output_type": "execute_result"
    }
   ],
   "source": [
    "df_green.take(5)"
   ]
  },
  {
   "cell_type": "markdown",
   "id": "505b8f1e",
   "metadata": {},
   "source": [
    "select"
   ]
  },
  {
   "cell_type": "markdown",
   "id": "aee8477e",
   "metadata": {},
   "source": [
    "rdd = df_green \\\n",
    "    .select('lpep_pickup_datetime', 'PULocationID', 'total_amount') \\\n",
    "    .rdd"
   ]
  },
  {
   "cell_type": "code",
   "execution_count": 8,
   "id": "c1a31adf",
   "metadata": {},
   "outputs": [
    {
     "data": {
      "text/plain": [
       "[Row(lpep_pickup_datetime=datetime.datetime(2021, 6, 18, 11, 31), PULocationID=210, total_amount=19.35),\n",
       " Row(lpep_pickup_datetime=datetime.datetime(2021, 6, 14, 15, 54, 46), PULocationID=65, total_amount=12.85),\n",
       " Row(lpep_pickup_datetime=datetime.datetime(2021, 6, 11, 16, 28), PULocationID=75, total_amount=27.36),\n",
       " Row(lpep_pickup_datetime=datetime.datetime(2021, 6, 12, 9, 29, 47), PULocationID=95, total_amount=49.6),\n",
       " Row(lpep_pickup_datetime=datetime.datetime(2021, 6, 1, 14, 32, 17), PULocationID=74, total_amount=22.56)]"
      ]
     },
     "execution_count": 8,
     "metadata": {},
     "output_type": "execute_result"
    }
   ],
   "source": [
    "rdd.take(5)"
   ]
  },
  {
   "cell_type": "markdown",
   "id": "47782656",
   "metadata": {},
   "source": [
    "filter (vs WHERE)"
   ]
  },
  {
   "cell_type": "code",
   "execution_count": 9,
   "id": "f7d44dee",
   "metadata": {},
   "outputs": [],
   "source": [
    "from datetime import datetime"
   ]
  },
  {
   "cell_type": "code",
   "execution_count": 10,
   "id": "2e64818f",
   "metadata": {},
   "outputs": [],
   "source": [
    "start = datetime(year=2020, month=1, day=1)"
   ]
  },
  {
   "cell_type": "markdown",
   "id": "2038a964",
   "metadata": {},
   "source": [
    "1) lambda"
   ]
  },
  {
   "cell_type": "code",
   "execution_count": 11,
   "id": "e90e63c9",
   "metadata": {},
   "outputs": [
    {
     "data": {
      "text/plain": [
       "[Row(lpep_pickup_datetime=datetime.datetime(2021, 6, 18, 11, 31), PULocationID=210, total_amount=19.35)]"
      ]
     },
     "execution_count": 11,
     "metadata": {},
     "output_type": "execute_result"
    }
   ],
   "source": [
    "rdd.filter(lambda row: row.lpep_pickup_datetime >= start).take(1)"
   ]
  },
  {
   "cell_type": "markdown",
   "id": "6557bd8b",
   "metadata": {},
   "source": [
    "2) function"
   ]
  },
  {
   "cell_type": "code",
   "execution_count": 12,
   "id": "6f79c443",
   "metadata": {},
   "outputs": [],
   "source": [
    "def filter_outliner(row):\n",
    "    return row.lpep_pickup_datetime >= start"
   ]
  },
  {
   "cell_type": "code",
   "execution_count": 13,
   "id": "344d6ffc",
   "metadata": {},
   "outputs": [
    {
     "data": {
      "text/plain": [
       "[Row(lpep_pickup_datetime=datetime.datetime(2021, 6, 18, 11, 31), PULocationID=210, total_amount=19.35)]"
      ]
     },
     "execution_count": 13,
     "metadata": {},
     "output_type": "execute_result"
    }
   ],
   "source": [
    "rdd.filter(filter_outliner).take(1)"
   ]
  },
  {
   "cell_type": "markdown",
   "id": "deedba00",
   "metadata": {},
   "source": [
    "map (vs GROUP BY)"
   ]
  },
  {
   "cell_type": "code",
   "execution_count": 18,
   "id": "d32f68d5",
   "metadata": {},
   "outputs": [],
   "source": [
    "def prepare_for_grouping(row):\n",
    "    hour = row.lpep_pickup_datetime.replace(minute=0, second=0, microsecond=0)\n",
    "    zone = row.PULocationID\n",
    "    key = (hour, zone)\n",
    "    \n",
    "    amount = row.total_amount\n",
    "    count = 1\n",
    "    value = (amount, count)\n",
    "    \n",
    "    return (key, value)"
   ]
  },
  {
   "cell_type": "code",
   "execution_count": 19,
   "id": "c038ed54",
   "metadata": {},
   "outputs": [
    {
     "data": {
      "text/plain": [
       "[((datetime.datetime(2021, 6, 18, 11, 0), 210), (19.35, 1)),\n",
       " ((datetime.datetime(2021, 6, 14, 15, 0), 65), (12.85, 1)),\n",
       " ((datetime.datetime(2021, 6, 11, 16, 0), 75), (27.36, 1)),\n",
       " ((datetime.datetime(2021, 6, 12, 9, 0), 95), (49.6, 1)),\n",
       " ((datetime.datetime(2021, 6, 1, 14, 0), 74), (22.56, 1)),\n",
       " ((datetime.datetime(2021, 6, 25, 16, 0), 41), (10.3, 1)),\n",
       " ((datetime.datetime(2021, 6, 21, 9, 0), 56), (24.5, 1)),\n",
       " ((datetime.datetime(2021, 6, 23, 18, 0), 65), (11.3, 1)),\n",
       " ((datetime.datetime(2021, 6, 13, 16, 0), 75), (5.3, 1)),\n",
       " ((datetime.datetime(2021, 6, 6, 13, 0), 89), (56.75, 1))]"
      ]
     },
     "execution_count": 19,
     "metadata": {},
     "output_type": "execute_result"
    }
   ],
   "source": [
    "rdd \\\n",
    "    .filter(filter_outliner) \\\n",
    "    .map(prepare_for_grouping) \\\n",
    "    .take(10)"
   ]
  },
  {
   "cell_type": "markdown",
   "id": "f301448d",
   "metadata": {},
   "source": [
    "reduce by key"
   ]
  },
  {
   "cell_type": "code",
   "execution_count": 21,
   "id": "8ead167e",
   "metadata": {},
   "outputs": [],
   "source": [
    "def calculate_revenue(left_value, right_value):\n",
    "    left_amount, left_count = left_value\n",
    "    right_amount, right_count = right_value\n",
    "    \n",
    "    output_amount = left_amount + right_amount\n",
    "    output_count = left_count + right_count\n",
    "    \n",
    "    return (output_amount, output_count)"
   ]
  },
  {
   "cell_type": "code",
   "execution_count": 23,
   "id": "425aaca1",
   "metadata": {},
   "outputs": [
    {
     "name": "stderr",
     "output_type": "stream",
     "text": [
      "                                                                                \r"
     ]
    },
    {
     "data": {
      "text/plain": [
       "[((datetime.datetime(2021, 6, 1, 14, 0), 74), (372.70000000000005, 16)),\n",
       " ((datetime.datetime(2021, 6, 24, 14, 0), 215), (18.5, 1)),\n",
       " ((datetime.datetime(2021, 6, 11, 17, 0), 181), (93.47999999999999, 5)),\n",
       " ((datetime.datetime(2021, 6, 1, 7, 0), 65), (50.35, 1)),\n",
       " ((datetime.datetime(2021, 6, 1, 12, 0), 17), (10.8, 1)),\n",
       " ((datetime.datetime(2021, 6, 7, 23, 0), 42), (47.55, 3)),\n",
       " ((datetime.datetime(2021, 6, 16, 16, 0), 75), (547.0600000000002, 26)),\n",
       " ((datetime.datetime(2021, 6, 17, 17, 0), 74), (354.6400000000001, 21)),\n",
       " ((datetime.datetime(2021, 6, 23, 15, 0), 129), (97.14, 3)),\n",
       " ((datetime.datetime(2021, 6, 11, 12, 0), 208), (33.55, 1))]"
      ]
     },
     "execution_count": 23,
     "metadata": {},
     "output_type": "execute_result"
    }
   ],
   "source": [
    "rdd \\\n",
    "    .filter(filter_outliner) \\\n",
    "    .map(prepare_for_grouping) \\\n",
    "    .reduceByKey(calculate_revenue) \\\n",
    "    .take(10)"
   ]
  },
  {
   "cell_type": "markdown",
   "id": "8f5b5ee1",
   "metadata": {},
   "source": [
    "unwrap"
   ]
  },
  {
   "cell_type": "code",
   "execution_count": 28,
   "id": "5f2b95d9",
   "metadata": {},
   "outputs": [],
   "source": [
    "from collections import namedtuple"
   ]
  },
  {
   "cell_type": "code",
   "execution_count": 29,
   "id": "af71b303",
   "metadata": {},
   "outputs": [],
   "source": [
    "RevenueRow = namedtuple('RevenueRow', ['hour', 'zone', 'revenue', 'count'])"
   ]
  },
  {
   "cell_type": "code",
   "execution_count": 32,
   "id": "917179cd",
   "metadata": {},
   "outputs": [],
   "source": [
    "def unwrap(row):\n",
    "    return RevenueRow(hour=row[0][0], \n",
    "            zone=row[0][1], \n",
    "            revenue=row[1][0], \n",
    "            count=row[1][1])"
   ]
  },
  {
   "cell_type": "code",
   "execution_count": 33,
   "id": "6926c2ad",
   "metadata": {},
   "outputs": [
    {
     "name": "stderr",
     "output_type": "stream",
     "text": [
      "[Stage 23:=================================>                        (4 + 3) / 7]\r"
     ]
    },
    {
     "name": "stdout",
     "output_type": "stream",
     "text": [
      "+-------------------+----+------------------+-----+\n",
      "|               hour|zone|           revenue|count|\n",
      "+-------------------+----+------------------+-----+\n",
      "|2021-06-01 14:00:00|  74|372.70000000000005|   16|\n",
      "|2021-06-24 14:00:00| 215|              18.5|    1|\n",
      "|2021-06-11 17:00:00| 181| 93.47999999999999|    5|\n",
      "|2021-06-01 07:00:00|  65|             50.35|    1|\n",
      "|2021-06-01 12:00:00|  17|              10.8|    1|\n",
      "|2021-06-07 23:00:00|  42|             47.55|    3|\n",
      "|2021-06-16 16:00:00|  75| 547.0600000000002|   26|\n",
      "|2021-06-17 17:00:00|  74| 354.6400000000001|   21|\n",
      "|2021-06-23 15:00:00| 129|             97.14|    3|\n",
      "|2021-06-11 12:00:00| 208|             33.55|    1|\n",
      "|2021-06-29 15:00:00|  75|496.18000000000006|   25|\n",
      "|2021-06-05 14:00:00|  74|377.15000000000015|   24|\n",
      "|2021-06-10 15:00:00|  18|              11.3|    1|\n",
      "|2021-06-17 14:00:00|  98|             30.11|    1|\n",
      "|2021-06-03 17:00:00|  75|423.30000000000007|   24|\n",
      "|2021-06-07 00:00:00|  42|              21.3|    1|\n",
      "|2021-06-28 10:00:00|  18|             73.11|    2|\n",
      "|2021-06-16 19:00:00|  75|348.25000000000006|   20|\n",
      "|2021-06-02 14:00:00| 210|              68.5|    2|\n",
      "|2021-06-25 08:00:00|  74| 434.3500000000001|   32|\n",
      "+-------------------+----+------------------+-----+\n",
      "only showing top 20 rows\n",
      "\n"
     ]
    },
    {
     "name": "stderr",
     "output_type": "stream",
     "text": [
      "\r",
      "                                                                                \r"
     ]
    }
   ],
   "source": [
    "rdd \\\n",
    "    .filter(filter_outliner) \\\n",
    "    .map(prepare_for_grouping) \\\n",
    "    .reduceByKey(calculate_revenue) \\\n",
    "    .map(unwrap) \\\n",
    "    .toDF() \\\n",
    "    .show()"
   ]
  },
  {
   "cell_type": "markdown",
   "id": "ad155919",
   "metadata": {},
   "source": [
    "fix schema"
   ]
  },
  {
   "cell_type": "code",
   "execution_count": 34,
   "id": "0229db81",
   "metadata": {},
   "outputs": [
    {
     "name": "stderr",
     "output_type": "stream",
     "text": [
      "                                                                                \r"
     ]
    }
   ],
   "source": [
    "df_result = rdd \\\n",
    "    .filter(filter_outliner) \\\n",
    "    .map(prepare_for_grouping) \\\n",
    "    .reduceByKey(calculate_revenue) \\\n",
    "    .map(unwrap) \\\n",
    "    .toDF()"
   ]
  },
  {
   "cell_type": "code",
   "execution_count": 35,
   "id": "54752745",
   "metadata": {},
   "outputs": [
    {
     "data": {
      "text/plain": [
       "StructType([StructField('hour', TimestampType(), True), StructField('zone', LongType(), True), StructField('revenue', DoubleType(), True), StructField('count', LongType(), True)])"
      ]
     },
     "execution_count": 35,
     "metadata": {},
     "output_type": "execute_result"
    }
   ],
   "source": [
    "df_result.schema"
   ]
  },
  {
   "cell_type": "code",
   "execution_count": 36,
   "id": "d0b0bcf1",
   "metadata": {},
   "outputs": [],
   "source": [
    "from pyspark.sql import types"
   ]
  },
  {
   "cell_type": "code",
   "execution_count": 37,
   "id": "511b2da0",
   "metadata": {},
   "outputs": [],
   "source": [
    "result_schema = types.StructType([\n",
    "    types.StructField('hour', types.TimestampType(), True),\n",
    "    types.StructField('zone', types.IntegerType(), True),\n",
    "    types.StructField('revenue', types.DoubleType(), True),\n",
    "    types.StructField('count', types.IntegerType(), True)\n",
    "])"
   ]
  },
  {
   "cell_type": "code",
   "execution_count": 38,
   "id": "122184fd",
   "metadata": {},
   "outputs": [],
   "source": [
    "df_result = rdd \\\n",
    "    .filter(filter_outliner) \\\n",
    "    .map(prepare_for_grouping) \\\n",
    "    .reduceByKey(calculate_revenue) \\\n",
    "    .map(unwrap) \\\n",
    "    .toDF(result_schema)"
   ]
  },
  {
   "cell_type": "code",
   "execution_count": 39,
   "id": "4780bf27",
   "metadata": {},
   "outputs": [
    {
     "name": "stderr",
     "output_type": "stream",
     "text": [
      "[Stage 29:=========================================>                (5 + 2) / 7]\r"
     ]
    },
    {
     "name": "stdout",
     "output_type": "stream",
     "text": [
      "+-------------------+----+------------------+-----+\n",
      "|               hour|zone|           revenue|count|\n",
      "+-------------------+----+------------------+-----+\n",
      "|2021-06-01 14:00:00|  74|372.70000000000005|   16|\n",
      "|2021-06-24 14:00:00| 215|              18.5|    1|\n",
      "|2021-06-11 17:00:00| 181| 93.47999999999999|    5|\n",
      "|2021-06-01 07:00:00|  65|             50.35|    1|\n",
      "|2021-06-01 12:00:00|  17|              10.8|    1|\n",
      "|2021-06-07 23:00:00|  42|             47.55|    3|\n",
      "|2021-06-16 16:00:00|  75| 547.0600000000002|   26|\n",
      "|2021-06-17 17:00:00|  74| 354.6400000000001|   21|\n",
      "|2021-06-23 15:00:00| 129|             97.14|    3|\n",
      "|2021-06-11 12:00:00| 208|             33.55|    1|\n",
      "|2021-06-29 15:00:00|  75|496.18000000000006|   25|\n",
      "|2021-06-05 14:00:00|  74|377.15000000000015|   24|\n",
      "|2021-06-10 15:00:00|  18|              11.3|    1|\n",
      "|2021-06-17 14:00:00|  98|             30.11|    1|\n",
      "|2021-06-03 17:00:00|  75|423.30000000000007|   24|\n",
      "|2021-06-07 00:00:00|  42|              21.3|    1|\n",
      "|2021-06-28 10:00:00|  18|             73.11|    2|\n",
      "|2021-06-16 19:00:00|  75|348.25000000000006|   20|\n",
      "|2021-06-02 14:00:00| 210|              68.5|    2|\n",
      "|2021-06-25 08:00:00|  74| 434.3500000000001|   32|\n",
      "+-------------------+----+------------------+-----+\n",
      "only showing top 20 rows\n",
      "\n"
     ]
    },
    {
     "name": "stderr",
     "output_type": "stream",
     "text": [
      "\r",
      "                                                                                \r"
     ]
    }
   ],
   "source": [
    "df_result.show()"
   ]
  },
  {
   "cell_type": "code",
   "execution_count": 40,
   "id": "d32a4824",
   "metadata": {},
   "outputs": [
    {
     "data": {
      "text/plain": [
       "StructType([StructField('hour', TimestampType(), True), StructField('zone', IntegerType(), True), StructField('revenue', DoubleType(), True), StructField('count', IntegerType(), True)])"
      ]
     },
     "execution_count": 40,
     "metadata": {},
     "output_type": "execute_result"
    }
   ],
   "source": [
    "df_result.schema"
   ]
  },
  {
   "cell_type": "code",
   "execution_count": 41,
   "id": "fc4dd238",
   "metadata": {},
   "outputs": [
    {
     "name": "stderr",
     "output_type": "stream",
     "text": [
      "                                                                                \r"
     ]
    }
   ],
   "source": [
    "df_result.write.parquet('tmp/green-revenue')"
   ]
  }
 ],
 "metadata": {
  "kernelspec": {
   "display_name": "Python 3 (ipykernel)",
   "language": "python",
   "name": "python3"
  },
  "language_info": {
   "codemirror_mode": {
    "name": "ipython",
    "version": 3
   },
   "file_extension": ".py",
   "mimetype": "text/x-python",
   "name": "python",
   "nbconvert_exporter": "python",
   "pygments_lexer": "ipython3",
   "version": "3.9.15"
  }
 },
 "nbformat": 4,
 "nbformat_minor": 5
}
